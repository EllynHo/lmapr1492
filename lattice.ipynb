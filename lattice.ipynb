{
 "cells": [
  {
   "cell_type": "code",
   "execution_count": 1,
   "id": "47032af8",
   "metadata": {},
   "outputs": [
    {
     "name": "stdout",
     "output_type": "stream",
     "text": [
      "Defaulting to user installation because normal site-packages is not writeable\n",
      "Requirement already satisfied: mp-api in ./.local/lib/python3.9/site-packages (0.40.1)\n",
      "Requirement already satisfied: setuptools in /usr/lib/python3.9/site-packages (from mp-api) (50.3.2)\n",
      "Requirement already satisfied: msgpack in /usr/local/lib64/python3.9/site-packages (from mp-api) (1.0.5)\n",
      "Requirement already satisfied: maggma>=0.57.1 in ./.local/lib/python3.9/site-packages (from mp-api) (0.63.3)\n",
      "Requirement already satisfied: pymatgen<2024.2.20,>=2022.3.7 in ./.local/lib/python3.9/site-packages (from mp-api) (2024.2.8)\n",
      "Requirement already satisfied: typing-extensions>=3.7.4.1 in /usr/local/lib/python3.9/site-packages (from mp-api) (4.6.3)\n",
      "Requirement already satisfied: requests>=2.23.0 in /usr/local/lib/python3.9/site-packages (from mp-api) (2.31.0)\n",
      "Requirement already satisfied: monty>=2023.9.25 in ./.local/lib/python3.9/site-packages (from mp-api) (2024.2.2)\n",
      "Requirement already satisfied: emmet-core>=0.78.0rc3 in ./.local/lib/python3.9/site-packages (from mp-api) (0.78.0rc4)\n",
      "Requirement already satisfied: pydantic>=2.0 in /usr/local/lib/python3.9/site-packages (from emmet-core>=0.78.0rc3->mp-api) (2.4.2)\n",
      "Requirement already satisfied: pydantic-settings>=2.0 in /usr/local/lib/python3.9/site-packages (from emmet-core>=0.78.0rc3->mp-api) (2.0.3)\n",
      "Requirement already satisfied: pybtex~=0.24 in /usr/local/lib/python3.9/site-packages (from emmet-core>=0.78.0rc3->mp-api) (0.24.0)\n",
      "Requirement already satisfied: ruamel.yaml<0.18 in /usr/local/lib/python3.9/site-packages (from maggma>=0.57.1->mp-api) (0.17.32)\n",
      "Requirement already satisfied: pymongo>=4.2.0 in /usr/local/lib64/python3.9/site-packages (from maggma>=0.57.1->mp-api) (4.5.0)\n",
      "Requirement already satisfied: mongomock>=3.10.0 in /usr/local/lib/python3.9/site-packages (from maggma>=0.57.1->mp-api) (4.1.2)\n",
      "Requirement already satisfied: pydash>=4.1.0 in /usr/local/lib/python3.9/site-packages (from maggma>=0.57.1->mp-api) (7.0.6)\n",
      "Requirement already satisfied: jsonschema>=3.1.1 in /usr/local/lib/python3.9/site-packages (from maggma>=0.57.1->mp-api) (4.17.3)\n",
      "Requirement already satisfied: tqdm>=4.19.6 in /usr/local/lib/python3.9/site-packages (from maggma>=0.57.1->mp-api) (4.65.0)\n",
      "Requirement already satisfied: mongogrant>=0.3.1 in /usr/local/lib/python3.9/site-packages (from maggma>=0.57.1->mp-api) (0.3.3)\n",
      "Requirement already satisfied: aioitertools>=0.5.1 in /usr/local/lib/python3.9/site-packages (from maggma>=0.57.1->mp-api) (0.11.0)\n",
      "Requirement already satisfied: numpy>=1.17.3 in /usr/local/lib64/python3.9/site-packages (from maggma>=0.57.1->mp-api) (1.25.0)\n",
      "Requirement already satisfied: fastapi>=0.42.0 in /usr/local/lib/python3.9/site-packages (from maggma>=0.57.1->mp-api) (0.103.2)\n",
      "Requirement already satisfied: pyzmq>=24.0.1 in /usr/local/lib64/python3.9/site-packages (from maggma>=0.57.1->mp-api) (24.0.1)\n",
      "Requirement already satisfied: dnspython>=1.16.0 in /usr/local/lib/python3.9/site-packages (from maggma>=0.57.1->mp-api) (2.4.2)\n",
      "Requirement already satisfied: sshtunnel>=0.1.5 in /usr/local/lib/python3.9/site-packages (from maggma>=0.57.1->mp-api) (0.4.0)\n",
      "Requirement already satisfied: orjson>=3.9.0 in /usr/local/lib64/python3.9/site-packages (from maggma>=0.57.1->mp-api) (3.9.7)\n",
      "Requirement already satisfied: boto3>=1.20.41 in /usr/local/lib/python3.9/site-packages (from maggma>=0.57.1->mp-api) (1.28.59)\n",
      "Requirement already satisfied: python-dateutil>=2.8.2 in /usr/local/lib/python3.9/site-packages (from maggma>=0.57.1->mp-api) (2.8.2)\n",
      "Requirement already satisfied: uvicorn>=0.18.3 in /usr/local/lib/python3.9/site-packages (from maggma>=0.57.1->mp-api) (0.23.2)\n",
      "Requirement already satisfied: matplotlib>=1.5 in /usr/local/lib64/python3.9/site-packages (from pymatgen<2024.2.20,>=2022.3.7->mp-api) (3.7.1)\n",
      "Requirement already satisfied: networkx>=2.2 in /usr/local/lib/python3.9/site-packages (from pymatgen<2024.2.20,>=2022.3.7->mp-api) (3.1)\n",
      "Requirement already satisfied: palettable>=3.1.1 in /usr/local/lib/python3.9/site-packages (from pymatgen<2024.2.20,>=2022.3.7->mp-api) (3.3.3)\n",
      "Requirement already satisfied: pandas in /usr/local/lib64/python3.9/site-packages (from pymatgen<2024.2.20,>=2022.3.7->mp-api) (2.0.2)\n",
      "Requirement already satisfied: plotly>=4.5.0 in /usr/local/lib/python3.9/site-packages (from pymatgen<2024.2.20,>=2022.3.7->mp-api) (5.15.0)\n",
      "Requirement already satisfied: scipy>=1.5.0 in /usr/local/lib64/python3.9/site-packages (from pymatgen<2024.2.20,>=2022.3.7->mp-api) (1.11.0)\n",
      "Requirement already satisfied: spglib>=2.0.2 in /usr/local/lib64/python3.9/site-packages (from pymatgen<2024.2.20,>=2022.3.7->mp-api) (2.0.2)\n",
      "Requirement already satisfied: sympy in /usr/local/lib/python3.9/site-packages (from pymatgen<2024.2.20,>=2022.3.7->mp-api) (1.12)\n",
      "Requirement already satisfied: tabulate in /usr/local/lib/python3.9/site-packages (from pymatgen<2024.2.20,>=2022.3.7->mp-api) (0.9.0)\n",
      "Requirement already satisfied: uncertainties>=3.1.4 in /usr/local/lib/python3.9/site-packages (from pymatgen<2024.2.20,>=2022.3.7->mp-api) (3.1.7)\n",
      "Requirement already satisfied: joblib in /usr/local/lib/python3.9/site-packages (from pymatgen<2024.2.20,>=2022.3.7->mp-api) (1.3.2)\n",
      "Requirement already satisfied: charset-normalizer<4,>=2 in /usr/local/lib64/python3.9/site-packages (from requests>=2.23.0->mp-api) (3.1.0)\n",
      "Requirement already satisfied: idna<4,>=2.5 in /usr/local/lib/python3.9/site-packages (from requests>=2.23.0->mp-api) (3.4)\n",
      "Requirement already satisfied: urllib3<3,>=1.21.1 in /usr/local/lib/python3.9/site-packages (from requests>=2.23.0->mp-api) (1.26.17)\n",
      "Requirement already satisfied: certifi>=2017.4.17 in /usr/local/lib/python3.9/site-packages (from requests>=2.23.0->mp-api) (2023.5.7)\n",
      "Requirement already satisfied: botocore<1.32.0,>=1.31.59 in /usr/local/lib/python3.9/site-packages (from boto3>=1.20.41->maggma>=0.57.1->mp-api) (1.31.59)\n",
      "Requirement already satisfied: jmespath<2.0.0,>=0.7.1 in /usr/local/lib/python3.9/site-packages (from boto3>=1.20.41->maggma>=0.57.1->mp-api) (1.0.1)\n",
      "Requirement already satisfied: s3transfer<0.8.0,>=0.7.0 in /usr/local/lib/python3.9/site-packages (from boto3>=1.20.41->maggma>=0.57.1->mp-api) (0.7.0)\n",
      "Requirement already satisfied: anyio<4.0.0,>=3.7.1 in /usr/local/lib/python3.9/site-packages (from fastapi>=0.42.0->maggma>=0.57.1->mp-api) (3.7.1)\n",
      "Requirement already satisfied: starlette<0.28.0,>=0.27.0 in /usr/local/lib/python3.9/site-packages (from fastapi>=0.42.0->maggma>=0.57.1->mp-api) (0.27.0)\n",
      "Requirement already satisfied: attrs>=17.4.0 in /usr/local/lib/python3.9/site-packages (from jsonschema>=3.1.1->maggma>=0.57.1->mp-api) (23.1.0)\n",
      "Requirement already satisfied: pyrsistent!=0.17.0,!=0.17.1,!=0.17.2,>=0.14.0 in /usr/local/lib/python3.9/site-packages (from jsonschema>=3.1.1->maggma>=0.57.1->mp-api) (0.19.3)\n",
      "Requirement already satisfied: contourpy>=1.0.1 in /usr/local/lib64/python3.9/site-packages (from matplotlib>=1.5->pymatgen<2024.2.20,>=2022.3.7->mp-api) (1.1.0)\n",
      "Requirement already satisfied: cycler>=0.10 in /usr/local/lib/python3.9/site-packages (from matplotlib>=1.5->pymatgen<2024.2.20,>=2022.3.7->mp-api) (0.11.0)\n",
      "Requirement already satisfied: fonttools>=4.22.0 in /usr/local/lib64/python3.9/site-packages (from matplotlib>=1.5->pymatgen<2024.2.20,>=2022.3.7->mp-api) (4.40.0)\n",
      "Requirement already satisfied: kiwisolver>=1.0.1 in /usr/local/lib64/python3.9/site-packages (from matplotlib>=1.5->pymatgen<2024.2.20,>=2022.3.7->mp-api) (1.4.4)\n",
      "Requirement already satisfied: packaging>=20.0 in /usr/local/lib/python3.9/site-packages (from matplotlib>=1.5->pymatgen<2024.2.20,>=2022.3.7->mp-api) (23.1)\n",
      "Requirement already satisfied: pillow>=6.2.0 in /usr/local/lib64/python3.9/site-packages (from matplotlib>=1.5->pymatgen<2024.2.20,>=2022.3.7->mp-api) (9.5.0)\n",
      "Requirement already satisfied: pyparsing>=2.3.1 in /usr/local/lib/python3.9/site-packages (from matplotlib>=1.5->pymatgen<2024.2.20,>=2022.3.7->mp-api) (3.1.0)\n",
      "Requirement already satisfied: importlib-resources>=3.2.0 in /usr/local/lib/python3.9/site-packages (from matplotlib>=1.5->pymatgen<2024.2.20,>=2022.3.7->mp-api) (5.12.0)\n",
      "Requirement already satisfied: Click in /usr/local/lib/python3.9/site-packages (from mongogrant>=0.3.1->maggma>=0.57.1->mp-api) (8.1.7)\n",
      "Requirement already satisfied: Flask>=1.0 in /usr/local/lib/python3.9/site-packages (from mongogrant>=0.3.1->maggma>=0.57.1->mp-api) (3.0.0)\n",
      "Requirement already satisfied: sentinels in /usr/local/lib/python3.9/site-packages (from mongomock>=3.10.0->maggma>=0.57.1->mp-api) (1.0.0)\n",
      "Requirement already satisfied: tenacity>=6.2.0 in /usr/local/lib/python3.9/site-packages (from plotly>=4.5.0->pymatgen<2024.2.20,>=2022.3.7->mp-api) (8.2.2)\n",
      "Requirement already satisfied: PyYAML>=3.01 in /usr/local/lib64/python3.9/site-packages (from pybtex~=0.24->emmet-core>=0.78.0rc3->mp-api) (6.0)\n",
      "Requirement already satisfied: latexcodec>=1.0.4 in /usr/local/lib/python3.9/site-packages (from pybtex~=0.24->emmet-core>=0.78.0rc3->mp-api) (2.0.1)\n",
      "Requirement already satisfied: six in /usr/local/lib/python3.9/site-packages (from pybtex~=0.24->emmet-core>=0.78.0rc3->mp-api) (1.16.0)\n",
      "Requirement already satisfied: annotated-types>=0.4.0 in /usr/local/lib/python3.9/site-packages (from pydantic>=2.0->emmet-core>=0.78.0rc3->mp-api) (0.5.0)\n",
      "Requirement already satisfied: pydantic-core==2.10.1 in /usr/local/lib64/python3.9/site-packages (from pydantic>=2.0->emmet-core>=0.78.0rc3->mp-api) (2.10.1)\n",
      "Requirement already satisfied: python-dotenv>=0.21.0 in /usr/local/lib/python3.9/site-packages (from pydantic-settings>=2.0->emmet-core>=0.78.0rc3->mp-api) (1.0.0)\n",
      "Requirement already satisfied: ruamel.yaml.clib>=0.2.7 in /usr/local/lib64/python3.9/site-packages (from ruamel.yaml<0.18->maggma>=0.57.1->mp-api) (0.2.7)\n",
      "Requirement already satisfied: paramiko>=2.7.2 in /usr/local/lib/python3.9/site-packages (from sshtunnel>=0.1.5->maggma>=0.57.1->mp-api) (3.3.1)\n",
      "Requirement already satisfied: future in /usr/local/lib/python3.9/site-packages (from uncertainties>=3.1.4->pymatgen<2024.2.20,>=2022.3.7->mp-api) (0.18.3)\n",
      "Requirement already satisfied: h11>=0.8 in /usr/local/lib/python3.9/site-packages (from uvicorn>=0.18.3->maggma>=0.57.1->mp-api) (0.14.0)\n",
      "Requirement already satisfied: pytz>=2020.1 in /usr/local/lib/python3.9/site-packages (from pandas->pymatgen<2024.2.20,>=2022.3.7->mp-api) (2023.3)\n",
      "Requirement already satisfied: tzdata>=2022.1 in /usr/local/lib/python3.9/site-packages (from pandas->pymatgen<2024.2.20,>=2022.3.7->mp-api) (2023.3)\n",
      "Requirement already satisfied: mpmath>=0.19 in /usr/local/lib/python3.9/site-packages (from sympy->pymatgen<2024.2.20,>=2022.3.7->mp-api) (1.3.0)\n",
      "Requirement already satisfied: sniffio>=1.1 in /usr/local/lib/python3.9/site-packages (from anyio<4.0.0,>=3.7.1->fastapi>=0.42.0->maggma>=0.57.1->mp-api) (1.3.0)\n",
      "Requirement already satisfied: exceptiongroup in /usr/local/lib/python3.9/site-packages (from anyio<4.0.0,>=3.7.1->fastapi>=0.42.0->maggma>=0.57.1->mp-api) (1.1.1)\n",
      "Requirement already satisfied: Werkzeug>=3.0.0 in /usr/local/lib/python3.9/site-packages (from Flask>=1.0->mongogrant>=0.3.1->maggma>=0.57.1->mp-api) (3.0.0)\n",
      "Requirement already satisfied: Jinja2>=3.1.2 in /usr/local/lib/python3.9/site-packages (from Flask>=1.0->mongogrant>=0.3.1->maggma>=0.57.1->mp-api) (3.1.2)\n",
      "Requirement already satisfied: itsdangerous>=2.1.2 in /usr/local/lib/python3.9/site-packages (from Flask>=1.0->mongogrant>=0.3.1->maggma>=0.57.1->mp-api) (2.1.2)\n",
      "Requirement already satisfied: blinker>=1.6.2 in /usr/local/lib/python3.9/site-packages (from Flask>=1.0->mongogrant>=0.3.1->maggma>=0.57.1->mp-api) (1.6.2)\n",
      "Requirement already satisfied: importlib-metadata>=3.6.0 in /usr/local/lib/python3.9/site-packages (from Flask>=1.0->mongogrant>=0.3.1->maggma>=0.57.1->mp-api) (6.7.0)\n",
      "Requirement already satisfied: zipp>=3.1.0 in /usr/local/lib/python3.9/site-packages (from importlib-resources>=3.2.0->matplotlib>=1.5->pymatgen<2024.2.20,>=2022.3.7->mp-api) (3.15.0)\n",
      "Requirement already satisfied: bcrypt>=3.2 in /usr/local/lib64/python3.9/site-packages (from paramiko>=2.7.2->sshtunnel>=0.1.5->maggma>=0.57.1->mp-api) (4.0.1)\n",
      "Requirement already satisfied: cryptography>=3.3 in /usr/local/lib64/python3.9/site-packages (from paramiko>=2.7.2->sshtunnel>=0.1.5->maggma>=0.57.1->mp-api) (41.0.1)\n",
      "Requirement already satisfied: pynacl>=1.5 in /usr/local/lib64/python3.9/site-packages (from paramiko>=2.7.2->sshtunnel>=0.1.5->maggma>=0.57.1->mp-api) (1.5.0)\n",
      "Requirement already satisfied: cffi>=1.12 in /usr/local/lib64/python3.9/site-packages (from cryptography>=3.3->paramiko>=2.7.2->sshtunnel>=0.1.5->maggma>=0.57.1->mp-api) (1.15.1)\n",
      "Requirement already satisfied: MarkupSafe>=2.0 in /usr/local/lib64/python3.9/site-packages (from Jinja2>=3.1.2->Flask>=1.0->mongogrant>=0.3.1->maggma>=0.57.1->mp-api) (2.1.3)\n",
      "Requirement already satisfied: pycparser in /usr/local/lib/python3.9/site-packages (from cffi>=1.12->cryptography>=3.3->paramiko>=2.7.2->sshtunnel>=0.1.5->maggma>=0.57.1->mp-api) (2.21)\n",
      "\n",
      "\u001b[1m[\u001b[0m\u001b[34;49mnotice\u001b[0m\u001b[1;39;49m]\u001b[0m\u001b[39;49m A new release of pip is available: \u001b[0m\u001b[31;49m23.2.1\u001b[0m\u001b[39;49m -> \u001b[0m\u001b[32;49m24.0\u001b[0m\n",
      "\u001b[1m[\u001b[0m\u001b[34;49mnotice\u001b[0m\u001b[1;39;49m]\u001b[0m\u001b[39;49m To update, run: \u001b[0m\u001b[32;49mpython3.9 -m pip install --upgrade pip\u001b[0m\n"
     ]
    }
   ],
   "source": [
    "!pip install mp-api --upgrade\n",
    "import numpy as np\n",
    "from mp_api.client import MPRester\n",
    "#from pymatgen.ext.matproj import MPRester\n",
    "from pymatgen.core.operations import SymmOp\n",
    "from pymatgen.symmetry.analyzer import SpacegroupAnalyzer\n",
    "from pymatgen.electronic_structure.plotter import BSPlotter\n",
    "from pymatgen.phonon.plotter import PhononBSPlotter\n",
    "from jupyter_jsmol.pymatgen import quick_view\n",
    "from lmapr1492 import plot_brillouin_zone, get_plot_bs, get_plot_dos, get_plot_bs_and_dos, get_branch_wavevectors\n",
    "from plotly.subplots import make_subplots\n",
    "import plotly.graph_objects as go"
   ]
  },
  {
   "cell_type": "code",
   "execution_count": 3,
   "id": "07fedff9",
   "metadata": {
    "scrolled": true
   },
   "outputs": [
    {
     "data": {
      "application/vnd.jupyter.widget-view+json": {
       "model_id": "bd68de06ec44457cb841955bae9efabc",
       "version_major": 2,
       "version_minor": 0
      },
      "text/plain": [
       "Retrieving MaterialsDoc documents:   0%|          | 0/1 [00:00<?, ?it/s]"
      ]
     },
     "metadata": {},
     "output_type": "display_data"
    },
    {
     "data": {
      "application/vnd.jupyter.widget-view+json": {
       "model_id": "f809b4e291864a1f9263e79a7d499188",
       "version_major": 2,
       "version_minor": 0
      },
      "text/plain": [
       "Retrieving ElectronicStructureDoc documents:   0%|          | 0/1 [00:00<?, ?it/s]"
      ]
     },
     "metadata": {},
     "output_type": "display_data"
    },
    {
     "data": {
      "application/vnd.jupyter.widget-view+json": {
       "model_id": "328998494a99445f9da7618e7399f3cc",
       "version_major": 2,
       "version_minor": 0
      },
      "text/plain": [
       "Retrieving ElectronicStructureDoc documents:   0%|          | 0/1 [00:00<?, ?it/s]"
      ]
     },
     "metadata": {},
     "output_type": "display_data"
    },
    {
     "data": {
      "application/vnd.jupyter.widget-view+json": {
       "model_id": "38acb4ee3c174a129520d8ea8207ee76",
       "version_major": 2,
       "version_minor": 0
      },
      "text/plain": [
       "Retrieving PhononBSDOSDoc documents:   0%|          | 0/1 [00:00<?, ?it/s]"
      ]
     },
     "metadata": {},
     "output_type": "display_data"
    },
    {
     "data": {
      "application/vnd.jupyter.widget-view+json": {
       "model_id": "6b34d8ee2e7040bf807256569b7c345e",
       "version_major": 2,
       "version_minor": 0
      },
      "text/plain": [
       "Retrieving PhononBSDOSDoc documents:   0%|          | 0/1 [00:00<?, ?it/s]"
      ]
     },
     "metadata": {},
     "output_type": "display_data"
    }
   ],
   "source": [
    "mp_key = \"VGJDyi0TH2uezP850Utn6gEwHnI5i365\"\n",
    "mp_id = \"mp-961713\" #ZrSnPt\n",
    "with MPRester(mp_key) as m:\n",
    "    prim_struc = m.get_structure_by_material_id(mp_id)\n",
    "    el_bs = m.get_bandstructure_by_material_id(mp_id)\n",
    "    el_dos = m.get_dos_by_material_id(mp_id)\n",
    "    ph_bs = m.get_phonon_bandstructure_by_material_id(mp_id)\n",
    "    ph_dos = m.get_phonon_dos_by_material_id(mp_id)\n",
    "conv_struc = SpacegroupAnalyzer(prim_struc).get_conventional_standard_structure()\n",
    "symmops = SpacegroupAnalyzer(conv_struc).get_space_group_operations()"
   ]
  },
  {
   "cell_type": "code",
   "execution_count": 4,
   "id": "6b5c20ef",
   "metadata": {},
   "outputs": [
    {
     "name": "stdout",
     "output_type": "stream",
     "text": [
      "Vecteurs de bases du réseau direct :\n",
      "a =  [3.90752335e+00 1.00000000e-08 2.25600955e+00]\n",
      "b =  [1.30250846 3.68404636 2.25600955]\n",
      "c =  [0.         0.         4.51201809] \n",
      "\n",
      "Longueurs(Å):\n",
      "a =  4.512019261980874\n",
      "b =  4.5120178369208634\n",
      "c =  4.51201809 \n",
      "\n",
      "Angles(°):\n",
      "α =  59.999990739769885\n",
      "β =  60.000001187557906\n",
      "ɣ =  59.99998163155354\n"
     ]
    }
   ],
   "source": [
    "print(\"Vecteurs de bases du réseau direct :\")\n",
    "lattice_direct = prim_struc.lattice\n",
    "print(\"a = \",lattice_direct.matrix[0])\n",
    "print(\"b = \",lattice_direct.matrix[1])\n",
    "print(\"c = \",lattice_direct.matrix[2],\"\\n\")\n",
    "print(\"Longueurs(Å):\")\n",
    "print(\"a = \",lattice_direct.a)\n",
    "print(\"b = \",lattice_direct.b)\n",
    "print(\"c = \",lattice_direct.c,\"\\n\")\n",
    "print(\"Angles(°):\")\n",
    "print(\"α = \",lattice_direct.angles[0])\n",
    "print(\"β = \",lattice_direct.angles[1])\n",
    "print(\"ɣ = \",lattice_direct.angles[2])"
   ]
  },
  {
   "cell_type": "code",
   "execution_count": 5,
   "id": "d4e93df7",
   "metadata": {},
   "outputs": [
    {
     "name": "stdout",
     "output_type": "stream",
     "text": [
      "Vecteurs de bases du réseau réciproque :\n",
      "a* =  [ 1.60797128 -0.5685043   0.        ]\n",
      "b* =  [-4.36468796e-09  1.70551201e+00  0.00000000e+00]\n",
      "c* =  [-0.80398582 -0.56850398  1.39254435] \n",
      "\n",
      "Longueurs(Å):\n",
      "a* =  1.705511291915324\n",
      "b* =  1.705512010132421\n",
      "c* =  1.7055115783832235 \n",
      "\n",
      "Angles(°):\n",
      "α* =  109.47122496184447\n",
      "β* =  109.47120790067132\n",
      "ɣ* =  109.47123983549805\n"
     ]
    }
   ],
   "source": [
    "print(\"Vecteurs de bases du réseau réciproque :\")\n",
    "lattice_recip = lattice_direct.reciprocal_lattice\n",
    "print(\"a* = \",lattice_recip.matrix[0])\n",
    "print(\"b* = \",lattice_recip.matrix[1])\n",
    "print(\"c* = \",lattice_recip.matrix[2],\"\\n\")\n",
    "print(\"Longueurs(Å):\")\n",
    "print(\"a* = \",lattice_recip.a)\n",
    "print(\"b* = \",lattice_recip.b)\n",
    "print(\"c* = \",lattice_recip.c,\"\\n\")\n",
    "print(\"Angles(°):\")\n",
    "print(\"α* = \",lattice_recip.angles[0])\n",
    "print(\"β* = \",lattice_recip.angles[1])\n",
    "print(\"ɣ* = \",lattice_recip.angles[2])"
   ]
  },
  {
   "cell_type": "code",
   "execution_count": 6,
   "id": "3d95c133",
   "metadata": {},
   "outputs": [
    {
     "name": "stdout",
     "output_type": "stream",
     "text": [
      "Type de maille : cubic F (Faces centrées)\n"
     ]
    }
   ],
   "source": [
    "print(\"Type de maille :\",SpacegroupAnalyzer(prim_struc).get_lattice_type()\n",
    "      ,SpacegroupAnalyzer(prim_struc).get_space_group_symbol()[0],\"(Faces centrées)\")\n"
   ]
  },
  {
   "cell_type": "code",
   "execution_count": 7,
   "id": "4050914f",
   "metadata": {},
   "outputs": [
    {
     "name": "stdout",
     "output_type": "stream",
     "text": [
      "Système cristallin : cubic\n"
     ]
    }
   ],
   "source": [
    "print(\"Système cristallin :\", SpacegroupAnalyzer(prim_struc).get_crystal_system())"
   ]
  },
  {
   "cell_type": "code",
   "execution_count": 8,
   "id": "fe991d84",
   "metadata": {},
   "outputs": [
    {
     "name": "stdout",
     "output_type": "stream",
     "text": [
      "Groupe ponctuel : -43m\n"
     ]
    }
   ],
   "source": [
    "print(\"Groupe ponctuel :\", SpacegroupAnalyzer(prim_struc).get_point_group_symbol())"
   ]
  }
 ],
 "metadata": {
  "kernelspec": {
   "display_name": "Python 3 (ipykernel)",
   "language": "python",
   "name": "python3"
  },
  "language_info": {
   "codemirror_mode": {
    "name": "ipython",
    "version": 3
   },
   "file_extension": ".py",
   "mimetype": "text/x-python",
   "name": "python",
   "nbconvert_exporter": "python",
   "pygments_lexer": "ipython3",
   "version": "3.9.13"
  }
 },
 "nbformat": 4,
 "nbformat_minor": 5
}
