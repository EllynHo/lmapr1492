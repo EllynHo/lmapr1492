{
 "cells": [
  {
   "cell_type": "code",
   "execution_count": 1,
   "id": "8b5f3871",
   "metadata": {},
   "outputs": [],
   "source": [
    "import numpy as np\n",
    "from mp_api.client import MPRester\n",
    "from pymatgen.core.operations import SymmOp\n",
    "from pymatgen.symmetry.analyzer import SpacegroupAnalyzer\n",
    "from pymatgen.electronic_structure.plotter import BSPlotter\n",
    "from pymatgen.phonon.plotter import PhononBSPlotter\n",
    "from jupyter_jsmol.pymatgen import quick_view\n",
    "from lmapr1492 import plot_brillouin_zone, get_plot_bs, get_plot_dos, get_plot_bs_and_dos, get_branch_wavevectors\n",
    "from plotly.subplots import make_subplots\n",
    "import plotly.graph_objects as go"
   ]
  },
  {
   "cell_type": "code",
   "execution_count": 2,
   "id": "8a8e6dec",
   "metadata": {},
   "outputs": [
    {
     "data": {
      "application/vnd.jupyter.widget-view+json": {
       "model_id": "0d005240c5554d49ae755b945b42acf6",
       "version_major": 2,
       "version_minor": 0
      },
      "text/plain": [
       "Retrieving MaterialsDoc documents:   0%|          | 0/1 [00:00<?, ?it/s]"
      ]
     },
     "metadata": {},
     "output_type": "display_data"
    },
    {
     "data": {
      "application/vnd.jupyter.widget-view+json": {
       "model_id": "497ca5743fa24e00aa51956b1d616064",
       "version_major": 2,
       "version_minor": 0
      },
      "text/plain": [
       "Retrieving ElectronicStructureDoc documents:   0%|          | 0/1 [00:00<?, ?it/s]"
      ]
     },
     "metadata": {},
     "output_type": "display_data"
    },
    {
     "data": {
      "application/vnd.jupyter.widget-view+json": {
       "model_id": "b3628c94a2c04ec799b4a9765929a246",
       "version_major": 2,
       "version_minor": 0
      },
      "text/plain": [
       "Retrieving ElectronicStructureDoc documents:   0%|          | 0/1 [00:00<?, ?it/s]"
      ]
     },
     "metadata": {},
     "output_type": "display_data"
    },
    {
     "data": {
      "application/vnd.jupyter.widget-view+json": {
       "model_id": "37d05b7133bc4b31a20a83b3be296300",
       "version_major": 2,
       "version_minor": 0
      },
      "text/plain": [
       "Retrieving PhononBSDOSDoc documents:   0%|          | 0/1 [00:00<?, ?it/s]"
      ]
     },
     "metadata": {},
     "output_type": "display_data"
    },
    {
     "data": {
      "application/vnd.jupyter.widget-view+json": {
       "model_id": "2f3ff6a8126c4d808ca4b907d5e73254",
       "version_major": 2,
       "version_minor": 0
      },
      "text/plain": [
       "Retrieving PhononBSDOSDoc documents:   0%|          | 0/1 [00:00<?, ?it/s]"
      ]
     },
     "metadata": {},
     "output_type": "display_data"
    }
   ],
   "source": [
    "mp_key = \"VGJDyi0TH2uezP850Utn6gEwHnI5i365\"\n",
    "mp_id = \"mp-961713\" #ZrSnPt\n",
    "with MPRester(mp_key) as m:\n",
    "    prim_struc = m.get_structure_by_material_id(mp_id)\n",
    "    el_bs = m.get_bandstructure_by_material_id(mp_id)\n",
    "    el_dos = m.get_dos_by_material_id(mp_id)\n",
    "    ph_bs = m.get_phonon_bandstructure_by_material_id(mp_id)\n",
    "    ph_dos = m.get_phonon_dos_by_material_id(mp_id)\n",
    "conv_struc = SpacegroupAnalyzer(prim_struc).get_conventional_standard_structure()\n",
    "symmops = SpacegroupAnalyzer(conv_struc).get_space_group_operations()"
   ]
  },
  {
   "cell_type": "markdown",
   "id": "ff738c64",
   "metadata": {},
   "source": [
    "# Première opération de symétrie (Rotation d'ordre 2)"
   ]
  },
  {
   "cell_type": "code",
   "execution_count": 18,
   "id": "4c1953e2",
   "metadata": {},
   "outputs": [
    {
     "data": {
      "application/vnd.jupyter.widget-view+json": {
       "model_id": "24ff9f32b4e145b98a1019da55154f6a",
       "version_major": 2,
       "version_minor": 0
      },
      "text/plain": [
       "JsmolView(layout=Layout(align_self='stretch', height='400px'))"
      ]
     },
     "metadata": {},
     "output_type": "display_data"
    }
   ],
   "source": [
    "i_atom = 1 #Zr0\n",
    "i_symmop = 3\n",
    "\n",
    "view = quick_view(prim_struc, \"packed\", conventional = True)\n",
    "display(view)\n",
    "view.script('select zirconium; color lightsalmon')\n",
    "view.script('select tin; color gold')\n",
    "view.script('select platinum; color palegreen')\n",
    "view.script('draw SYMOP ' + str(i_symmop) + ' {atomno = ' + str(i_atom) + '}')\n"
   ]
  },
  {
   "cell_type": "code",
   "execution_count": 4,
   "id": "28d191a4",
   "metadata": {},
   "outputs": [
    {
     "name": "stdout",
     "output_type": "stream",
     "text": [
      "Rot:\n",
      "[[-1.  0.  0.]\n",
      " [ 0. -1.  0.]\n",
      " [ 0.  0.  1.]]\n",
      "tau\n",
      "[0. 0. 0.]\n"
     ]
    }
   ],
   "source": [
    "symmop = symmops[i_symmop - 1]\n",
    "print(symmop)"
   ]
  },
  {
   "cell_type": "code",
   "execution_count": 5,
   "id": "31fa80db",
   "metadata": {},
   "outputs": [
    {
     "name": "stdout",
     "output_type": "stream",
     "text": [
      "[0.5 0.  0. ]\n"
     ]
    }
   ],
   "source": [
    "pos_init = conv_struc.sites[i_atom -1].frac_coords\n",
    "print(pos_init)"
   ]
  },
  {
   "cell_type": "code",
   "execution_count": 6,
   "id": "850d8ee3",
   "metadata": {},
   "outputs": [
    {
     "name": "stdout",
     "output_type": "stream",
     "text": [
      "[-0.5  0.   0. ]\n"
     ]
    }
   ],
   "source": [
    "pos_final = symmop.operate(pos_init)\n",
    "print(pos_final)"
   ]
  },
  {
   "cell_type": "code",
   "execution_count": 7,
   "id": "8ae8c5e3",
   "metadata": {},
   "outputs": [
    {
     "name": "stdout",
     "output_type": "stream",
     "text": [
      "1 [0.5 0.  0. ]\n"
     ]
    }
   ],
   "source": [
    "for k_atom, site in enumerate(conv_struc.sites):\n",
    "    if np.linalg.norm((site.frac_coords - pos_final)%1) < 1e-6:\n",
    "        j_atom = k_atom + 1\n",
    "print(j_atom, conv_struc.sites[j_atom -1].frac_coords)"
   ]
  },
  {
   "cell_type": "markdown",
   "id": "db53bdfc",
   "metadata": {},
   "source": [
    "### Description :\n",
    "On applique une rotation d'ordre 2 sans translation sur l'atome Zr0 qui passe de la position $\\begin{bmatrix} 0.5 & 0 & 0 \\end{bmatrix}$ à la position $\\begin{bmatrix} -0.5 & 0 & 0 \\end{bmatrix}$.\n",
    "\n",
    "L'équation de cette symétrie est:\n",
    "$$\n",
    "\\begin{bmatrix}\n",
    "-1 & 0 & 0 \\\\\n",
    "0 & -1 & 0 \\\\\n",
    "0 & 0 & 1\n",
    "\\end{bmatrix}\n",
    "\\begin{bmatrix}\n",
    "x \\\\\n",
    "y \\\\\n",
    "z\n",
    "\\end{bmatrix}\n",
    "=\n",
    "\\begin{bmatrix}\n",
    "-x \\\\\n",
    "-y \\\\\n",
    "z\n",
    "\\end{bmatrix}\\\\\n",
    "$$\n",
    "Cette opération conserve la chiralité et tourne l'atome de 180° autour d'un axe (celui entouré de la flèche rouge sur l'image)"
   ]
  },
  {
   "cell_type": "markdown",
   "id": "a33d8d1a",
   "metadata": {},
   "source": [
    "# Deuxième opération de symétrie (Réflexion)"
   ]
  },
  {
   "cell_type": "code",
   "execution_count": 19,
   "id": "e92b82e0",
   "metadata": {},
   "outputs": [
    {
     "data": {
      "application/vnd.jupyter.widget-view+json": {
       "model_id": "40360467c25b48e58acb9c3ed8276016",
       "version_major": 2,
       "version_minor": 0
      },
      "text/plain": [
       "JsmolView(layout=Layout(align_self='stretch', height='400px'))"
      ]
     },
     "metadata": {},
     "output_type": "display_data"
    }
   ],
   "source": [
    "i_atom = 6 #Sn5\n",
    "i_symmop = 8\n",
    "\n",
    "view = quick_view(prim_struc, \"packed\", conventional = True)\n",
    "display(view)\n",
    "view.script('select zirconium; color lightsalmon')\n",
    "view.script('select tin; color gold')\n",
    "view.script('select platinum; color palegreen')\n",
    "view.script('draw SYMOP ' + str(i_symmop) + ' {atomno = ' + str(i_atom) + '}')"
   ]
  },
  {
   "cell_type": "code",
   "execution_count": 9,
   "id": "2a545a49",
   "metadata": {},
   "outputs": [
    {
     "name": "stdout",
     "output_type": "stream",
     "text": [
      "Rot:\n",
      "[[ 0. -1.  0.]\n",
      " [-1.  0.  0.]\n",
      " [ 0.  0.  1.]]\n",
      "tau\n",
      "[0. 0. 0.]\n"
     ]
    }
   ],
   "source": [
    "symmop = symmops[i_symmop - 1]\n",
    "print(symmop)"
   ]
  },
  {
   "cell_type": "code",
   "execution_count": 10,
   "id": "26723eab",
   "metadata": {},
   "outputs": [
    {
     "name": "stdout",
     "output_type": "stream",
     "text": [
      "[0.  0.5 0.5]\n"
     ]
    }
   ],
   "source": [
    "pos_init = conv_struc.sites[i_atom -1].frac_coords\n",
    "print(pos_init)"
   ]
  },
  {
   "cell_type": "code",
   "execution_count": 11,
   "id": "3e458da7",
   "metadata": {},
   "outputs": [
    {
     "name": "stdout",
     "output_type": "stream",
     "text": [
      "[-0.5  0.   0.5]\n"
     ]
    }
   ],
   "source": [
    "pos_final = symmop.operate(pos_init)\n",
    "print(pos_final)"
   ]
  },
  {
   "cell_type": "code",
   "execution_count": 12,
   "id": "c8243777",
   "metadata": {},
   "outputs": [
    {
     "name": "stdout",
     "output_type": "stream",
     "text": [
      "7 [0.5 0.  0.5]\n"
     ]
    }
   ],
   "source": [
    "for k_atom, site in enumerate(conv_struc.sites):\n",
    "    if np.linalg.norm((site.frac_coords - pos_final)%1) < 1e-6:\n",
    "        j_atom = k_atom + 1\n",
    "print(j_atom, conv_struc.sites[j_atom -1].frac_coords)"
   ]
  },
  {
   "cell_type": "markdown",
   "id": "06ce9719",
   "metadata": {},
   "source": [
    "### Description :\n",
    "On applique une réflexion sans translation sur l'atome Sn5 qui passe de la position $\\begin{bmatrix} 0 & 0.5 & 0.5 \\end{bmatrix}$ à la position $\\begin{bmatrix} -0.5 & 0 & 0.5 \\end{bmatrix}$.\n",
    "\n",
    "L'équation de cette symétrie est:\n",
    "$$\n",
    "\\begin{bmatrix}\n",
    "0 & -1 & 0 \\\\\n",
    "-1 & 0 & 0 \\\\\n",
    "0 & 0 & 1\n",
    "\\end{bmatrix}\n",
    "\\begin{bmatrix}\n",
    "x \\\\\n",
    "y \\\\\n",
    "z\n",
    "\\end{bmatrix}\n",
    "=\n",
    "\\begin{bmatrix}\n",
    "-y \\\\\n",
    "-x \\\\\n",
    "z\n",
    "\\end{bmatrix}\\\\\n",
    "$$\n",
    "Cette opération inverse la chiralité et se fait par rapport à un plan miroir (en vert sur l'image)"
   ]
  },
  {
   "cell_type": "markdown",
   "id": "2830c5e1",
   "metadata": {},
   "source": [
    "# Troisième opération de symétrie (Rotation d'ordre 3)"
   ]
  },
  {
   "cell_type": "code",
   "execution_count": 20,
   "id": "3968d4bc",
   "metadata": {},
   "outputs": [
    {
     "data": {
      "application/vnd.jupyter.widget-view+json": {
       "model_id": "bbc00b4b11834833a4c78afe326d26d4",
       "version_major": 2,
       "version_minor": 0
      },
      "text/plain": [
       "JsmolView(layout=Layout(align_self='stretch', height='400px'))"
      ]
     },
     "metadata": {},
     "output_type": "display_data"
    }
   ],
   "source": [
    "i_atom = 10 #Pt9\n",
    "i_symmop = 17\n",
    "\n",
    "view = quick_view(prim_struc, \"packed\", conventional = True)\n",
    "display(view)\n",
    "view.background_color = (1, 1, 1)\n",
    "view.script('select zirconium; color lightsalmon')\n",
    "view.script('select tin; color gold')\n",
    "view.script('select platinum; color palegreen')\n",
    "view.script('draw SYMOP ' + str(i_symmop) + ' {atomno = ' + str(i_atom) + '}')"
   ]
  },
  {
   "cell_type": "code",
   "execution_count": 14,
   "id": "1637f4b8",
   "metadata": {},
   "outputs": [
    {
     "name": "stdout",
     "output_type": "stream",
     "text": [
      "Rot:\n",
      "[[0. 1. 0.]\n",
      " [0. 0. 1.]\n",
      " [1. 0. 0.]]\n",
      "tau\n",
      "[0. 0. 0.]\n"
     ]
    }
   ],
   "source": [
    "symmop = symmops[i_symmop - 1]\n",
    "print(symmop)"
   ]
  },
  {
   "cell_type": "code",
   "execution_count": 15,
   "id": "d143fe3e",
   "metadata": {},
   "outputs": [
    {
     "name": "stdout",
     "output_type": "stream",
     "text": [
      "[0.75 0.75 0.75]\n"
     ]
    }
   ],
   "source": [
    "pos_init = conv_struc.sites[i_atom -1].frac_coords\n",
    "print(pos_init)"
   ]
  },
  {
   "cell_type": "code",
   "execution_count": 16,
   "id": "4fd0b860",
   "metadata": {},
   "outputs": [
    {
     "name": "stdout",
     "output_type": "stream",
     "text": [
      "[0.75 0.75 0.75]\n"
     ]
    }
   ],
   "source": [
    "pos_final = symmop.operate(pos_init)\n",
    "print(pos_final)"
   ]
  },
  {
   "cell_type": "code",
   "execution_count": 17,
   "id": "445e317b",
   "metadata": {},
   "outputs": [
    {
     "name": "stdout",
     "output_type": "stream",
     "text": [
      "10 [0.75 0.75 0.75]\n"
     ]
    }
   ],
   "source": [
    "for k_atom, site in enumerate(conv_struc.sites):\n",
    "    if np.linalg.norm((site.frac_coords - pos_final)%1) < 1e-6:\n",
    "        j_atom = k_atom + 1\n",
    "print(j_atom, conv_struc.sites[j_atom -1].frac_coords)"
   ]
  },
  {
   "cell_type": "markdown",
   "id": "970b2ac7",
   "metadata": {},
   "source": [
    "### Description :\n",
    "On applique une rotation d'ordre 3 sans translation sur l'atome Pt9 qui passe de la position $\\begin{bmatrix} 0.75 & 0.75 & 0.75 \\end{bmatrix}$ à la position $\\begin{bmatrix} 0.75 & -0.75 & -0.75 \\end{bmatrix}$.\n",
    "\n",
    "L'équation de cette symétrie est:\n",
    "$$\n",
    "\\begin{bmatrix}\n",
    "0 & 1 & 0 \\\\\n",
    "0 & 0 & 1 \\\\\n",
    "1 & 0 & 0\n",
    "\\end{bmatrix}\n",
    "\\begin{bmatrix}\n",
    "x \\\\\n",
    "y \\\\\n",
    "z\n",
    "\\end{bmatrix}\n",
    "=\n",
    "\\begin{bmatrix}\n",
    "y \\\\\n",
    "z \\\\\n",
    "x\n",
    "\\end{bmatrix}\\\\\n",
    "$$\n",
    "Cette opération conserve la chiralité et tourne l'atome de 120° autour d'un axe (celui entouré de la flèche rouge sur l'image)"
   ]
  }
 ],
 "metadata": {
  "kernelspec": {
   "display_name": "Python 3 (ipykernel)",
   "language": "python",
   "name": "python3"
  },
  "language_info": {
   "codemirror_mode": {
    "name": "ipython",
    "version": 3
   },
   "file_extension": ".py",
   "mimetype": "text/x-python",
   "name": "python",
   "nbconvert_exporter": "python",
   "pygments_lexer": "ipython3",
   "version": "3.9.13"
  }
 },
 "nbformat": 4,
 "nbformat_minor": 5
}
